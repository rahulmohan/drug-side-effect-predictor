{
 "cells": [
  {
   "cell_type": "code",
   "execution_count": 7,
   "metadata": {},
   "outputs": [],
   "source": [
    "from __future__ import print_function\n",
    "import argparse\n",
    "import torch\n",
    "import torch.utils.data\n",
    "from torch import nn, optim\n",
    "from torch.nn import functional as F\n",
    "from torchvision import datasets, transforms\n",
    "from torchvision.utils import save_image\n",
    "import numpy as np\n",
    "from sklearn.model_selection import train_test_split\n",
    "from torch.utils.data import Dataset,DataLoader\n",
    "\n",
    "%matplotlib inline\n",
    "import matplotlib.pyplot as plt\n",
    "from mpl_toolkits.mplot3d import Axes3D\n",
    "import pandas as pd"
   ]
  },
  {
   "cell_type": "code",
   "execution_count": 4,
   "metadata": {},
   "outputs": [],
   "source": [
    "cuda = False\n",
    "torch.manual_seed(42)\n",
    "features = np.load(\"sider_latent.npy\")\n",
    "\n",
    "X_train, X_test = train_test_split(features, test_size=0.2, random_state = 42)"
   ]
  },
  {
   "cell_type": "code",
   "execution_count": 20,
   "metadata": {},
   "outputs": [],
   "source": [
    "class LatentDataset(Dataset):\n",
    "    def __init__(self,d):\n",
    "        self.d = d\n",
    "    def __getitem__(self,i):\n",
    "        return  [self.d[i], self.d[i]]\n",
    "    def __len__(self):\n",
    "        return len(self.d)\n",
    "\n",
    "class NoisyDataset(Dataset):\n",
    "    def __init__(self,d,cc=100, downscale=0.25):\n",
    "        self.data = d.copy()\n",
    "        for i in range(1,cc): \n",
    "            self.data = np.concatenate((self.data, d.copy()),axis=0)\n",
    "        self.noisy = self.data + np.asarray(np.random.randn(self.data.shape[0],self.data.shape[1]) * downscale , dtype=np.float32) \n",
    "    def __getitem__(self,i):\n",
    "        return  [self.noisy[i], self.data[i]]\n",
    "    def __len__(self):\n",
    "        return len(self.data)\n",
    "\n",
    "\n",
    "n_dim = features.shape[1]\n",
    "internal_dim = 28\n",
    "latent_dim = 10\n",
    "\n",
    "dec = [10,n_dim]\n",
    "\n",
    "class VAE(nn.Module):\n",
    "    def __init__(self):\n",
    "        super(VAE, self).__init__()\n",
    "\n",
    "        self.fc1 = nn.Linear(n_dim, internal_dim)\n",
    "        self.fc21 = nn.Linear(internal_dim, latent_dim)\n",
    "        self.fc22 = nn.Linear(internal_dim, latent_dim)  \n",
    "        self.fc3 = nn.Linear(latent_dim, internal_dim)\n",
    "        self.fc4 = nn.Linear(internal_dim, n_dim)\n",
    "\n",
    "    def encode(self, x):\n",
    "        h1 = F.relu(self.fc1(x))\n",
    "        return self.fc21(h1), self.fc22(h1)\n",
    "\n",
    "    def reparameterize(self, mu, logvar):\n",
    "        std = torch.exp(0.5*logvar)\n",
    "        eps = torch.randn_like(std)\n",
    "        return mu + eps*std\n",
    "\n",
    "    def decode(self, z):\n",
    "        h3 = F.relu(self.fc3(z))\n",
    "        return torch.sigmoid(self.fc4(h3))\n",
    "\n",
    "    def forward(self, x):\n",
    "        mu, logvar = self.encode(x)\n",
    "        z = self.reparameterize(mu, logvar)\n",
    "        return self.decode(z), mu, logvar\n",
    "\n",
    "\n",
    "\n",
    "# Reconstruction + KL divergence losses summed over all elements and batch\n",
    "def loss_function(recon_x, x, mu, logvar):\n",
    "    BCE = F.binary_cross_entropy(recon_x, x, reduction='sum')\n",
    "\n",
    "    # see Appendix B from VAE paper:\n",
    "    # Kingma and Welling. Auto-Encoding Variational Bayes. ICLR, 2014\n",
    "    # https://arxiv.org/abs/1312.6114\n",
    "    # 0.5 * sum(1 + log(sigma^2) - mu^2 - sigma^2)\n",
    "    KLD = -0.5 * torch.sum(1 + logvar - mu.pow(2) - logvar.exp())\n",
    "\n",
    "    return BCE + KLD\n",
    "\n",
    "\n",
    "def train(epoch):\n",
    "    model.train()\n",
    "    train_loss = 0\n",
    "    for batch_idx, (data, target) in enumerate(train_loader):\n",
    "        data = data.to(device)\n",
    "        optimizer.zero_grad()\n",
    "        recon_batch, mu, logvar = model(data)\n",
    "        loss = loss_function(recon_batch, target, mu, logvar)\n",
    "        loss.backward()\n",
    "        train_loss += loss.item()\n",
    "        optimizer.step()\n",
    "        if batch_idx % log_interval == 0:\n",
    "            print('Train Epoch: {} [{}/{} ({:.0f}%)]\\tLoss: {:.6f}'.format(\n",
    "                epoch, batch_idx * len(data), len(train_loader.dataset),\n",
    "                100. * batch_idx / len(train_loader),\n",
    "                loss.item() / len(data)))\n",
    "\n",
    "    print('====> Epoch: {} Average loss: {:.4f}'.format(\n",
    "          epoch, train_loss / len(train_loader.dataset)))\n",
    "\n",
    "\n",
    "def test(epoch):\n",
    "    model.eval()\n",
    "    test_loss = 0\n",
    "    with torch.no_grad():\n",
    "        for i, (data, _) in enumerate(test_loader):\n",
    "            data = data.to(device)\n",
    "            recon_batch, mu, logvar = model(data)\n",
    "            test_loss += loss_function(recon_batch, data, mu, logvar).item()\n",
    "    test_loss /= len(test_loader.dataset)\n",
    "    print('====> Test set loss: {:.4f}'.format(test_loss))"
   ]
  },
  {
   "cell_type": "code",
   "execution_count": 26,
   "metadata": {},
   "outputs": [],
   "source": [
    "train_loader = DataLoader(LatentDataset(X_train), batch_size=32, shuffle=True)\n",
    "test_loader = DataLoader(LatentDataset(X_test), batch_size=32, shuffle=True)"
   ]
  },
  {
   "cell_type": "code",
   "execution_count": 35,
   "metadata": {},
   "outputs": [
    {
     "name": "stdout",
     "output_type": "stream",
     "text": [
      "Train Epoch: 0 [0/614 (0%)]\tLoss: 42.900997\n",
      "====> Epoch: 0 Average loss: 36.8127\n",
      "====> Test set loss: 28.8031\n",
      "Train Epoch: 1 [0/614 (0%)]\tLoss: 28.876337\n",
      "====> Epoch: 1 Average loss: 18.0749\n",
      "====> Test set loss: 0.1062\n"
     ]
    }
   ],
   "source": [
    "device = torch.device( \"cpu\")\n",
    "log_interval = 100\n",
    "model = VAE().to(device)\n",
    "optimizer = optim.Adam(model.parameters(), lr=1e-3)\n",
    "\n",
    "\n",
    "for epoch in range(2):\n",
    "    train(epoch)\n",
    "    test(epoch)\n",
    "    \n",
    "with torch.no_grad():\n",
    "    sample = torch.randn(1000, latent_dim).to(device)\n",
    "    sample = model.decode(sample).cpu()\n",
    "    np.save(\"synthetic.latent.npy\",sample)"
   ]
  },
  {
   "cell_type": "code",
   "execution_count": 36,
   "metadata": {},
   "outputs": [
    {
     "data": {
      "text/plain": [
       "tensor([0.6231, 0.4248, 0.4319, 0.3758, 0.5609, 0.5628, 0.3988, 0.4671, 0.3798,\n",
       "        0.5783, 0.5347, 0.4993, 0.6300, 0.4267, 0.4551, 0.4802, 0.4301, 0.4121,\n",
       "        0.6392, 0.4903, 0.4137, 0.6724, 0.5549, 0.4031, 0.6350, 0.3587, 0.5829,\n",
       "        0.4087, 0.4307, 0.3871, 0.4340, 0.4895, 0.4482, 0.4281, 0.4906, 0.3603,\n",
       "        0.3312, 0.5338, 0.4016, 0.4096, 0.3442, 0.4470, 0.3658, 0.3492, 0.4992,\n",
       "        0.3589, 0.5038, 0.3919, 0.3648, 0.4933, 0.3625, 0.3923, 0.4455, 0.5066,\n",
       "        0.4159, 0.4520])"
      ]
     },
     "execution_count": 36,
     "metadata": {},
     "output_type": "execute_result"
    }
   ],
   "source": [
    "sample[2]"
   ]
  },
  {
   "cell_type": "code",
   "execution_count": null,
   "metadata": {},
   "outputs": [],
   "source": []
  }
 ],
 "metadata": {
  "kernelspec": {
   "display_name": "Python 2",
   "language": "python",
   "name": "python2"
  },
  "language_info": {
   "codemirror_mode": {
    "name": "ipython",
    "version": 2
   },
   "file_extension": ".py",
   "mimetype": "text/x-python",
   "name": "python",
   "nbconvert_exporter": "python",
   "pygments_lexer": "ipython2",
   "version": "2.7.15"
  }
 },
 "nbformat": 4,
 "nbformat_minor": 2
}
